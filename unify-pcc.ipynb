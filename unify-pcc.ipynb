{
 "cells": [
  {
   "cell_type": "markdown",
   "metadata": {},
   "source": [
    "# Process Point Cloud City dataset for use with Point-Cloud-City-Open3D-ML"
   ]
  },
  {
   "cell_type": "markdown",
   "metadata": {},
   "source": [
    "### Dataset Download Instructions\n",
    "\n",
    "##### Prerequisites\n",
    "\n",
    "1. Download the datasets released by [Enfield](https://www.nist.gov/ctl/pscr/creating-catalog-point-clouds-public-buildings-enfield-connecticut) and [Memphis](https://www.nist.gov/ctl/pscr/map-901-building-rich-interior-hazard-maps-first-responders). \n",
    "* NDA's will be required for several datasets\n",
    "\n",
    "2. Save these datasets under the same /project folder"
   ]
  },
  {
   "cell_type": "code",
   "execution_count": null,
   "metadata": {},
   "outputs": [],
   "source": [
    "# RUN THIS CODE IN TERMINAL and replace /project\n",
    "find /project -type f \\( -name \"*.zip\" -o -name \"*.tar\" -o -name \"*.tar.gz\" -o -name \"*.tar.bz2\" -o -name \"*.7z\" \\) -exec sh -c '\n",
    "  for file do\n",
    "    dir=\"${file%/*}\"\n",
    "    [ \"$dir\" = \"$file\" ] && dir=\".\"\n",
    "    case \"$file\" in\n",
    "      *.zip) unzip -o \"$file\" -d \"$dir\" ;;\n",
    "      *.tar) tar -xf \"$file\" -C \"$dir\" ;;\n",
    "      *.tar.gz) tar -xzf \"$file\" -C \"$dir\" ;;\n",
    "      *.tar.bz2) tar -xjf \"$file\" -C \"$dir\" ;;\n",
    "      *.7z) 7z x \"$file\" -o\"$dir\" ;;\n",
    "    esac\n",
    "  done\n",
    "' sh {} +"
   ]
  },
  {
   "cell_type": "markdown",
   "metadata": {},
   "source": [
    "##### Process Dataset\n",
    "\n",
    "Use python to run /scripts/process_point_cloud_city.py with the following parameters:\n",
    "\n",
    "- Input path to folder containing both Enfield and Memphis datasets with all files unzipped\n",
    "    - Ok to keep other files present as script filters for LAS files\n",
    "\n",
    "- Output folder - PCC_SKITTI will be created here\n",
    "\n",
    "Example: run in the main project directory\n",
    "```console\n",
    "python /unify-point-cloud-city/process_pcc.py 'path to PCC_SKITTI' 'output directory'\n",
    "```"
   ]
  },
  {
   "cell_type": "code",
   "execution_count": 3,
   "metadata": {},
   "outputs": [],
   "source": [
    "# FINAL FORMAT FOR PCC_SKITTI classes to labels\n",
    "\n",
    "label_to_names = {\n",
    "    0: 'unlabeled',\n",
    "    1: 'stairway',\n",
    "    2: 'door',\n",
    "    3: 'window',\n",
    "    4: 'pillar',\n",
    "    5: 'building entrance-exit',\n",
    "    6: 'elevator',\n",
    "    7: 'server equipment',\n",
    "    8: 'emergency lighting',\n",
    "    9: 'sprinkler',\n",
    "    10: 'fire door',\n",
    "    11: 'sign exit',\n",
    "    12: 'extinguisher',\n",
    "    13: 'utility shut offs - water',\n",
    "    14: 'mechanical equipment',\n",
    "    15: 'smoke detector',\n",
    "    16: 'fire suppression systems - sprinkler cover/escutcheon',\n",
    "    17: 'utility shutoffs - electric',\n",
    "    18: 'IFAK',\n",
    "    19: 'fire alarm'\n",
    "}"
   ]
  }
 ],
 "metadata": {
  "kernelspec": {
   "display_name": "py37",
   "language": "python",
   "name": "python3"
  },
  "language_info": {
   "codemirror_mode": {
    "name": "ipython",
    "version": 3
   },
   "file_extension": ".py",
   "mimetype": "text/x-python",
   "name": "python",
   "nbconvert_exporter": "python",
   "pygments_lexer": "ipython3",
   "version": "3.7.16"
  },
  "orig_nbformat": 4
 },
 "nbformat": 4,
 "nbformat_minor": 2
}
